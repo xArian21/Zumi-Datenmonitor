{
 "cells": [
  {
   "cell_type": "markdown",
   "id": "473f38f7",
   "metadata": {},
   "source": [
    "## Zumi Datenmonitor"
   ]
  },
  {
   "cell_type": "markdown",
   "id": "442ef01e",
   "metadata": {},
   "source": [
    "### Connect:"
   ]
  },
  {
   "cell_type": "code",
   "execution_count": null,
   "id": "f061ac7f",
   "metadata": {},
   "outputs": [],
   "source": [
    "from paramiko import SSHClient, AutoAddPolicy\n",
    "from paramiko_expect import SSHClientInteraction\n",
    "\n",
    "client = SSHClient()\n",
    "client.set_missing_host_key_policy(AutoAddPolicy())\n",
    "\n",
    "client.connect(\"192.168.10.1\", username=\"pi\", password=\"pi\", port=\"22\", timeout=10)\n",
    "interact = SSHClientInteraction(client, timeout=60, display=False)\n",
    "interact.send(\"python3\")\n",
    "interact.expect(\">>>\\s+\")"
   ]
  },
  {
   "cell_type": "markdown",
   "id": "a0f5505d",
   "metadata": {},
   "source": [
    "### Query:"
   ]
  },
  {
   "cell_type": "code",
   "execution_count": null,
   "id": "aece6faf",
   "metadata": {},
   "outputs": [],
   "source": [
    "def send_command(command: str):\n",
    "    interact.send(command)\n",
    "    interact.expect(\".*\", default_match_prefix=\".*\\n>>> \")\n",
    "    return interact.current_output_clean\n",
    "\n",
    "commands = ['import sys',\n",
    "            'sys.path.append(\"/home/pi/zumi-datenmonitor\")',\n",
    "            'from data_monitor.zumi_data_monitor import *',\n",
    "            'from zumi.zumi import Zumi',\n",
    "            'zumi = Zumi()',\n",
    "            'current_session = load_default_session(zumi)',\n",
    "            'start_recording(current_session)',\n",
    "            'start_random_walk(zumi, timedelta(seconds=20))']\n",
    "\n",
    "for command in commands:\n",
    "    x = send_command(command)\n",
    "    print(x)"
   ]
  },
  {
   "cell_type": "markdown",
   "id": "1e281c62",
   "metadata": {},
   "source": [
    "### Close"
   ]
  },
  {
   "cell_type": "code",
   "execution_count": null,
   "id": "9e146eae",
   "metadata": {},
   "outputs": [],
   "source": [
    "interact.close()\n",
    "client.close()"
   ]
  }
 ],
 "metadata": {
  "kernelspec": {
   "display_name": "Python 3 (ipykernel)",
   "language": "python",
   "name": "python3"
  },
  "language_info": {
   "codemirror_mode": {
    "name": "ipython",
    "version": 3
   },
   "file_extension": ".py",
   "mimetype": "text/x-python",
   "name": "python",
   "nbconvert_exporter": "python",
   "pygments_lexer": "ipython3",
   "version": "3.10.2"
  }
 },
 "nbformat": 4,
 "nbformat_minor": 5
}
